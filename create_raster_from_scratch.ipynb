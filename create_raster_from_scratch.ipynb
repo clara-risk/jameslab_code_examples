{
  "nbformat": 4,
  "nbformat_minor": 0,
  "metadata": {
    "colab": {
      "provenance": []
    },
    "kernelspec": {
      "name": "python3",
      "display_name": "Python 3"
    },
    "language_info": {
      "name": "python"
    }
  },
  "cells": [
    {
      "cell_type": "code",
      "execution_count": 1,
      "metadata": {
        "id": "2mkMA5ZKJN6N"
      },
      "outputs": [],
      "source": [
        "%%capture \n",
        "!apt install gdal-bin python-gdal python3-gdal \n",
        "%pip install pandas fiona shapely pyproj\n",
        "!apt install python3-rtree \n",
        "!pip install geopandas==0.10.0\n",
        "!pip install descartes\n",
        "!pip install gdal\n",
        "!pip install numpy"
      ]
    },
    {
      "cell_type": "code",
      "source": [
        "#Here we are importing the packages we need. \n",
        "import geopandas as gpd\n",
        "import pandas as pd \n",
        "from geopandas.tools import sjoin\n",
        "import shapely\n",
        "from shapely.geometry import LineString\n",
        "from shapely.geometry import Point\n",
        "from shapely.geometry import MultiPolygon, Polygon\n",
        "from shapely.geometry import shape\n",
        "from descartes import PolygonPatch\n",
        "import time\n",
        "import math\n",
        "import numpy as np\n",
        "import os, sys\n",
        "from pyproj import CRS, Transformer\n",
        "import fiona\n",
        "\n",
        "\n",
        "import matplotlib.pyplot as plt\n",
        "import matplotlib as mpl\n",
        "from math import floor\n",
        "\n",
        "from shapely.ops import unary_union\n",
        "\n",
        "import warnings\n",
        "warnings.filterwarnings('ignore')\n",
        "\n",
        "from osgeo import ogr, gdal,osr"
      ],
      "metadata": {
        "id": "8CHXon_NJcjx"
      },
      "execution_count": 2,
      "outputs": []
    },
    {
      "cell_type": "code",
      "source": [
        "#Here we create a matrix in the 10 by 10 format you want\n",
        "my_raster = np.ones((10,10))\n",
        "print(my_raster)"
      ],
      "metadata": {
        "colab": {
          "base_uri": "https://localhost:8080/"
        },
        "id": "MatDdfUgJgeB",
        "outputId": "432191ec-9e10-46b6-c289-5d89222ba717"
      },
      "execution_count": 18,
      "outputs": [
        {
          "output_type": "stream",
          "name": "stdout",
          "text": [
            "[[1. 1. 1. 1. 1. 1. 1. 1. 1. 1.]\n",
            " [1. 1. 1. 1. 1. 1. 1. 1. 1. 1.]\n",
            " [1. 1. 1. 1. 1. 1. 1. 1. 1. 1.]\n",
            " [1. 1. 1. 1. 1. 1. 1. 1. 1. 1.]\n",
            " [1. 1. 1. 1. 1. 1. 1. 1. 1. 1.]\n",
            " [1. 1. 1. 1. 1. 1. 1. 1. 1. 1.]\n",
            " [1. 1. 1. 1. 1. 1. 1. 1. 1. 1.]\n",
            " [1. 1. 1. 1. 1. 1. 1. 1. 1. 1.]\n",
            " [1. 1. 1. 1. 1. 1. 1. 1. 1. 1.]\n",
            " [1. 1. 1. 1. 1. 1. 1. 1. 1. 1.]]\n"
          ]
        }
      ]
    },
    {
      "cell_type": "code",
      "source": [
        "#It's just populated with ones. To change a value, use indexing: \n",
        "#First number is row, second number is column (count from 0 not 1)\n",
        "my_raster[0,2] = 9\n",
        "print(my_raster)"
      ],
      "metadata": {
        "colab": {
          "base_uri": "https://localhost:8080/"
        },
        "id": "1zCniZJqJ16o",
        "outputId": "4a1a07af-2e18-4edc-ec1d-2a364641992d"
      },
      "execution_count": 20,
      "outputs": [
        {
          "output_type": "stream",
          "name": "stdout",
          "text": [
            "[[1. 1. 9. 1. 1. 1. 1. 1. 1. 1.]\n",
            " [1. 1. 1. 1. 1. 1. 1. 1. 1. 1.]\n",
            " [1. 1. 1. 1. 1. 1. 1. 1. 1. 1.]\n",
            " [1. 1. 1. 1. 1. 1. 1. 1. 1. 1.]\n",
            " [1. 1. 1. 1. 1. 1. 1. 1. 1. 1.]\n",
            " [1. 1. 1. 1. 1. 1. 1. 1. 1. 1.]\n",
            " [1. 1. 1. 1. 1. 1. 1. 1. 1. 1.]\n",
            " [1. 1. 1. 1. 1. 1. 1. 1. 1. 1.]\n",
            " [1. 1. 1. 1. 1. 1. 1. 1. 1. 1.]\n",
            " [1. 1. 1. 1. 1. 1. 1. 1. 1. 1.]]\n"
          ]
        }
      ]
    },
    {
      "cell_type": "code",
      "source": [
        "#If you want, you can also manually edit the array \n",
        "\n",
        "my_raster = np.array(\n",
        "[[10., 9., 8., 7., 6., 5., 4., 3., 2., 1.], #Here, I have edited the row\n",
        " [1., 1., 1., 1., 1., 1., 1., 1., 1., 1.], #You can do that here too by just replacing the numbers\n",
        " [1., 1., 1., 1., 1., 1., 1., 1., 1., 1.], #If you are editing like this, the commas need to be there \n",
        " [1., 1., 1., 1., 1., 1., 1., 1., 1., 1.],\n",
        " [1., 1., 1., 1., 1., 1., 1., 1., 1., 1.],\n",
        " [1., 1., 1., 1., 1., 1., 1., 1., 1., 1.],\n",
        " [1., 1., 1., 1., 1., 1., 1., 1., 1., 1.],\n",
        " [1., 1., 1., 1., 1., 1., 1., 1., 1., 1.],\n",
        " [1., 1., 1., 1., 1., 1., 1., 1., 1., 1.],\n",
        " [1., 1., 1., 1., 1., 1., 1., 1., 1., 1.]])\n",
        "print(my_raster)"
      ],
      "metadata": {
        "colab": {
          "base_uri": "https://localhost:8080/"
        },
        "id": "dJ-9_7CLNZBI",
        "outputId": "31f1f87e-87bf-474b-a23f-a2d184073dcc"
      },
      "execution_count": 33,
      "outputs": [
        {
          "output_type": "stream",
          "name": "stdout",
          "text": [
            "[[10.  9.  8.  7.  6.  5.  4.  3.  2.  1.]\n",
            " [ 1.  1.  1.  1.  1.  1.  1.  1.  1.  1.]\n",
            " [ 1.  1.  1.  1.  1.  1.  1.  1.  1.  1.]\n",
            " [ 1.  1.  1.  1.  1.  1.  1.  1.  1.  1.]\n",
            " [ 1.  1.  1.  1.  1.  1.  1.  1.  1.  1.]\n",
            " [ 1.  1.  1.  1.  1.  1.  1.  1.  1.  1.]\n",
            " [ 1.  1.  1.  1.  1.  1.  1.  1.  1.  1.]\n",
            " [ 1.  1.  1.  1.  1.  1.  1.  1.  1.  1.]\n",
            " [ 1.  1.  1.  1.  1.  1.  1.  1.  1.  1.]\n",
            " [ 1.  1.  1.  1.  1.  1.  1.  1.  1.  1.]]\n"
          ]
        }
      ]
    },
    {
      "cell_type": "code",
      "source": [
        "from google.colab import drive\n",
        "drive.mount('/content/drive')\n",
        "\n",
        "#Navigate to folder where data is stored in the drive. \n",
        "%cd /content/drive/MyDrive/\n",
        "\n",
        "dirname = '/content/drive/MyDrive/'"
      ],
      "metadata": {
        "colab": {
          "base_uri": "https://localhost:8080/"
        },
        "id": "C9r-SvavKy4V",
        "outputId": "6b76a774-c95a-4ffb-b8ca-043eeb5b06dd"
      },
      "execution_count": 21,
      "outputs": [
        {
          "output_type": "stream",
          "name": "stdout",
          "text": [
            "Mounted at /content/drive\n",
            "/content/drive/MyDrive\n"
          ]
        }
      ]
    },
    {
      "cell_type": "code",
      "source": [
        "#Now we can output the array to a tiff file :) \n",
        "#If you go to the recent folder in your google drive, you will see it there \n",
        "\n",
        "driver = gdal.GetDriverByName( 'GTiff' )\n",
        "out_filename = 'my_raster.tif'\n",
        "dst_ds=driver.Create(out_filename,10,10,1,gdal.GDT_Byte)\n",
        "#Next, we set the location of the upper left corner of the raster \n",
        "#I've made it so it's right beside City Hall in Toronto, you can change it\n",
        "#The first number is the UTM Zone 17 East coordinate, second number is the North \n",
        "#The two 15s refer to the size of each pixel (15m), if you change to another number\n",
        "#Make sure one of them is still negative (second one!!) - important \n",
        "dst_ds.SetGeoTransform([630380.229, 15, 0, 4834628.614, 0, -15 ]) \n",
        "srs = osr.SpatialReference()\n",
        "srs.SetUTM( 17, 1 ) #Set UTM Zone 17 (you will have to look up which one you need)\n",
        "srs.SetWellKnownGeogCS( 'WGS84' ) #Set coordinate system to WGS84 \n",
        "dst_ds.SetProjection( srs.ExportToWkt() )\n",
        "dst_ds.GetRasterBand(1).WriteArray( my_raster ) #Write to drive "
      ],
      "metadata": {
        "colab": {
          "base_uri": "https://localhost:8080/"
        },
        "id": "A1VYHA5rKa0U",
        "outputId": "d972d347-aade-4356-8a06-8bd4ade22084"
      },
      "execution_count": 28,
      "outputs": [
        {
          "output_type": "execute_result",
          "data": {
            "text/plain": [
              "0"
            ]
          },
          "metadata": {},
          "execution_count": 28
        }
      ]
    }
  ]
}