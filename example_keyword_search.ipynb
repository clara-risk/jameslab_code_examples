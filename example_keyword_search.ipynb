{
  "nbformat": 4,
  "nbformat_minor": 0,
  "metadata": {
    "colab": {
      "name": "example_keyword_search.ipynb",
      "provenance": []
    },
    "kernelspec": {
      "name": "python3",
      "display_name": "Python 3"
    },
    "language_info": {
      "name": "python"
    }
  },
  "cells": [
    {
      "cell_type": "markdown",
      "source": [
        "**How to perform a keyword search through a text file in Python** "
      ],
      "metadata": {
        "id": "IEy9d-GTOJtE"
      }
    },
    {
      "cell_type": "code",
      "execution_count": 1,
      "metadata": {
        "id": "konAmUO7N89Z"
      },
      "outputs": [],
      "source": [
        "%%capture\n",
        "\n",
        "!pip install pandas\n",
        "!pip install numpy"
      ]
    },
    {
      "cell_type": "code",
      "source": [
        "import pandas as pd\n",
        "import numpy as np "
      ],
      "metadata": {
        "id": "NslqNc3NOSFN"
      },
      "execution_count": 2,
      "outputs": []
    },
    {
      "cell_type": "code",
      "source": [
        "def keyword_search(file_name,search_values,indicator_name): \n",
        "    '''Function to perform a keyword search in a text file and get \n",
        "    counts / nanmean / failure counts \n",
        "    \n",
        "    Parameters\n",
        "    ----------\n",
        "        file_name : string\n",
        "            name of text file with outputs in it \n",
        "        search_values : list\n",
        "            names of methods we are searching for in the file \n",
        "            one of the names must be the indicator of the block \n",
        "        indicator_name : string\n",
        "            name of the keyword that denotes a block in the text file \n",
        "            in JP's files, this is \"Info\" \n",
        "            we use to to determine which information is part of which run \n",
        "            \n",
        "    Returns\n",
        "    ----------\n",
        "        Pandas dataframe \n",
        "            two dataframes, one with nanmeans and failure counts for each method\n",
        "            one with re-formatted information from the text file \n",
        "    '''\n",
        "    options = search_values \n",
        "\n",
        "    collect_values = {} \n",
        "    for op in search_values: \n",
        "        collect_values[op] = [] \n",
        "\n",
        "    counts = {} \n",
        "    for op in search_values: \n",
        "        counts[op] = [] \n",
        "\n",
        "    count = 0\n",
        "    with open('CONCAT_outliers.txt') as file:\n",
        "\n",
        "        for line in file:\n",
        "            \n",
        "            split_line = line.strip('\\n').split(':')\n",
        "            \n",
        "            for op in options:\n",
        "\n",
        "                if split_line[0] == op:\n",
        "\n",
        "                    if op == 'Info':\n",
        "\n",
        "                        collect_values[op].append(split_line[1][0:])\n",
        "                        if count == 0: \n",
        "                            counts[op].append(0)\n",
        "                        else:\n",
        "                            counts[op].append(counts[op][-1]+1)\n",
        "                        count+=1\n",
        "                    \n",
        "                    else: \n",
        "                        collect_values[op].append(int(split_line[1]))\n",
        "                        counts[op].append(counts['Info'][-1])\n",
        "\n",
        "        \n",
        "\n",
        "    file.close()\n",
        "\n",
        "    store_df = pd.DataFrame()\n",
        "\n",
        "    for op in options:\n",
        "\n",
        "        indices = counts[op]\n",
        "        \n",
        "        target_indices = list(range(0,len(counts[indicator_name])))\n",
        "        \n",
        "        collect_overwrite = [] \n",
        "        for i in target_indices:\n",
        "            if i in indices:\n",
        "                idx = indices.index(i)\n",
        "                collect_overwrite.append(collect_values[op][idx])\n",
        "            else:\n",
        "                collect_overwrite.append(np.nan) \n",
        "        \n",
        "        store_df[op] = collect_overwrite\n",
        "\n",
        "\n",
        "    averages = {}\n",
        "    failure_count = {} \n",
        "    for method in list(store_df):\n",
        "\n",
        "        if method != indicator_name: \n",
        "\n",
        "            averages[method] = np.nanmean(store_df[method])\n",
        "            failure_count[method] = store_df[method].isna().sum()  \n",
        "\n",
        "    average_df = pd.DataFrame(averages.items(), columns=['Method', 'Nan_Mean'])\n",
        "    failure_df = pd.DataFrame(failure_count.items(), columns=['Method', 'Failure_Count'])\n",
        "    join_mean_failure = pd.concat([average_df, failure_df.reindex(average_df.index)], axis=1)\n",
        "    join_mean_failure = join_mean_failure.loc[:,~join_mean_failure.columns.duplicated()]\n",
        "\n",
        "    return store_df, join_mean_failure \n"
      ],
      "metadata": {
        "id": "_MpVv0NhOVGM"
      },
      "execution_count": 13,
      "outputs": []
    },
    {
      "cell_type": "code",
      "source": [
        "#Connect to google drive to get the data. \n",
        "from google.colab import drive\n",
        "drive.mount('/content/drive')"
      ],
      "metadata": {
        "colab": {
          "base_uri": "https://localhost:8080/"
        },
        "id": "607Vybw7Q6gp",
        "outputId": "16e125fe-42a1-4aa8-e9b3-579ebeb5f734"
      },
      "execution_count": 4,
      "outputs": [
        {
          "output_type": "stream",
          "name": "stdout",
          "text": [
            "Mounted at /content/drive\n"
          ]
        }
      ]
    },
    {
      "cell_type": "code",
      "source": [
        "#Navigate to folder where data is stored in the drive. \n",
        "%cd /content/drive/MyDrive/jameslab/\n",
        "\n",
        "dirname = '/content/drive/MyDrive/jameslab/'"
      ],
      "metadata": {
        "colab": {
          "base_uri": "https://localhost:8080/"
        },
        "id": "yM408RdhQ-n_",
        "outputId": "5dbcc7b2-b3f1-4742-82cd-42caea08c04e"
      },
      "execution_count": 5,
      "outputs": [
        {
          "output_type": "stream",
          "name": "stdout",
          "text": [
            "/content/drive/MyDrive/jameslab\n"
          ]
        }
      ]
    },
    {
      "cell_type": "code",
      "source": [
        "keyword_lookup = ['Info','PCADAPT','PCADAPT q-values','PCADAPT Benjamini-Hochberg',\\\n",
        "               'PCADAPT Bonferroni','PCADAPT componentwise','OutFLANK qvalues',\\\n",
        "               'RDAadapt','LEA snfm/fst','LEA adjusted p-values','LEA lfmm/BH',\\\n",
        "               'LEA lfmm/non_adj','LEA lfmm2']\n",
        "target_file = 'CONCAT_outliers.txt'\n",
        "\n",
        "keyword_search(target_file,keyword_lookup,'Info')"
      ],
      "metadata": {
        "colab": {
          "base_uri": "https://localhost:8080/"
        },
        "id": "JF_vKvjXQpoS",
        "outputId": "30f22c66-3a57-4cda-aa13-c5663809e3d6"
      },
      "execution_count": 14,
      "outputs": [
        {
          "output_type": "execute_result",
          "data": {
            "text/plain": [
              "(            Info  PCADAPT  ...  LEA lfmm/non_adj  LEA lfmm2\n",
              " 0    g101_s10332        9  ...               2.0       12.0\n",
              " 1    g103_s10332        5  ...               0.0        8.0\n",
              " 2    g105_s10332        6  ...               0.0        4.0\n",
              " 3    g107_s10332        8  ...               1.0        0.0\n",
              " 4    g109_s10332       10  ...               0.0        6.0\n",
              " 5    g111_s10332       12  ...               0.0        6.0\n",
              " 6     g13_s10332       10  ...               NaN        NaN\n",
              " 7     g15_s10332       12  ...               0.0       11.0\n",
              " 8     g17_s10332       13  ...               NaN        NaN\n",
              " 9     g19_s10332        9  ...               NaN        NaN\n",
              " 10    g21_s10332        7  ...               6.0       14.0\n",
              " 11    g23_s10332       13  ...               0.0        6.0\n",
              " 12    g25_s10332       17  ...               NaN        NaN\n",
              " 13    g27_s10332        6  ...               NaN        NaN\n",
              " 14    g29_s10332       12  ...               NaN        NaN\n",
              " 15    g31_s10332       13  ...               2.0        6.0\n",
              " 16    g33_s10332        7  ...               NaN        NaN\n",
              " 17    g35_s10332        6  ...               NaN        NaN\n",
              " 18    g37_s10332        9  ...               1.0       12.0\n",
              " 19    g39_s10332       12  ...               1.0        3.0\n",
              " 20    g41_s10332       11  ...               1.0        7.0\n",
              " 21    g43_s10332        7  ...               NaN        NaN\n",
              " 22    g45_s10332        7  ...               NaN        NaN\n",
              " 23    g47_s10332        5  ...               NaN        NaN\n",
              " 24    g49_s10332       10  ...              12.0       11.0\n",
              " 25    g51_s10332        6  ...               1.0        5.0\n",
              " 26    g53_s10332       11  ...               0.0        7.0\n",
              " 27    g55_s10332        7  ...               NaN        NaN\n",
              " 28    g57_s10332       12  ...               0.0        6.0\n",
              " 29    g59_s10332       10  ...               9.0       15.0\n",
              " 30    g61_s10332        8  ...               0.0       11.0\n",
              " 31    g63_s10332       11  ...               0.0        7.0\n",
              " 32    g65_s10332       12  ...               3.0        6.0\n",
              " 33    g67_s10332        6  ...               0.0        7.0\n",
              " 34    g69_s10332       10  ...               2.0        6.0\n",
              " 35    g71_s10332        8  ...               3.0       12.0\n",
              " 36    g73_s10332       10  ...               3.0        8.0\n",
              " 37    g75_s10332       11  ...               0.0        5.0\n",
              " 38    g77_s10332       14  ...               1.0       18.0\n",
              " 39    g79_s10332        7  ...               0.0        5.0\n",
              " 40    g81_s10332       12  ...               0.0        3.0\n",
              " 41    g83_s10332        8  ...               NaN        NaN\n",
              " 42    g85_s10332       11  ...               NaN        NaN\n",
              " 43    g87_s10332        8  ...               5.0       13.0\n",
              " 44    g89_s10332       13  ...               0.0        6.0\n",
              " 45    g91_s10332       11  ...               0.0        8.0\n",
              " 46    g93_s10332        8  ...               2.0        4.0\n",
              " 47    g95_s10332        6  ...               0.0        5.0\n",
              " 48    g97_s10332        8  ...               6.0       11.0\n",
              " 49    g99_s10332        8  ...               0.0        4.0\n",
              " \n",
              " [50 rows x 13 columns],\n",
              "                         Method   Nan_Mean  Failure_Count\n",
              " 0                      PCADAPT   9.440000              0\n",
              " 1             PCADAPT q-values   9.086957              4\n",
              " 2   PCADAPT Benjamini-Hochberg   8.782609              4\n",
              " 3           PCADAPT Bonferroni   6.065217              4\n",
              " 4        PCADAPT componentwise  22.804348              4\n",
              " 5             OutFLANK qvalues   0.266667              5\n",
              " 6                     RDAadapt   6.355556              5\n",
              " 7                 LEA snfm/fst   2.916667             14\n",
              " 8        LEA adjusted p-values   0.277778             14\n",
              " 9                  LEA lfmm/BH   2.805556             14\n",
              " 10            LEA lfmm/non_adj   1.694444             14\n",
              " 11                   LEA lfmm2   7.722222             14)"
            ]
          },
          "metadata": {},
          "execution_count": 14
        }
      ]
    }
  ]
}