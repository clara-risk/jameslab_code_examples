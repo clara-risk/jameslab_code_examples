{
  "nbformat": 4,
  "nbformat_minor": 0,
  "metadata": {
    "colab": {
      "name": "getting_harvest_area.ipynb",
      "provenance": [],
      "collapsed_sections": []
    },
    "kernelspec": {
      "name": "python3",
      "display_name": "Python 3"
    },
    "language_info": {
      "name": "python"
    }
  },
  "cells": [
    {
      "cell_type": "code",
      "execution_count": null,
      "metadata": {
        "id": "qqt0yjhqZDo7"
      },
      "outputs": [],
      "source": [
        "%%capture \n",
        "!apt install gdal-bin python-gdal python3-gdal \n",
        "%pip install pandas fiona shapely pyproj\n",
        "!apt install python3-rtree \n",
        "!pip install geopandas==0.10.0\n",
        "!pip install descartes\n",
        "!pip install scipy \n",
        "!pip install statsmodels\n",
        "!pip install matplotlib\n",
        "!pip install gdal\n",
        "!pip install numpy\n",
        "!pip install scikit-learn\n",
        "!pip install statsmodels"
      ]
    },
    {
      "cell_type": "code",
      "source": [
        "#Here we are importing the packages we need. \n",
        "import geopandas as gpd\n",
        "import pandas as pd \n",
        "from geopandas.tools import sjoin\n",
        "from shapely.geometry import LineString\n",
        "from shapely.geometry import Point\n",
        "from shapely.geometry import Polygon\n",
        "from shapely.geometry import shape\n",
        "from descartes import PolygonPatch\n",
        "import time\n",
        "import math\n",
        "import scipy.stats as stats\n",
        "import numpy as np\n",
        "import os, sys\n",
        "from pyproj import CRS, Transformer\n",
        "import fiona\n",
        "\n",
        "import statsmodels.api as sm\n",
        "import statsmodels.formula.api as smf\n",
        "\n",
        "import matplotlib.pyplot as plt\n",
        "import matplotlib as mpl\n",
        "from math import floor\n",
        "\n",
        "from shapely.ops import unary_union\n",
        "\n",
        "import warnings\n",
        "warnings.filterwarnings('ignore')\n",
        "\n",
        "from osgeo import ogr, gdal,osr"
      ],
      "metadata": {
        "colab": {
          "base_uri": "https://localhost:8080/"
        },
        "id": "GTWxbESTZE0j",
        "outputId": "e9b6ab5a-34d8-4b32-d285-44fc0c1cc5cf"
      },
      "execution_count": null,
      "outputs": [
        {
          "output_type": "stream",
          "name": "stderr",
          "text": [
            "/usr/local/lib/python3.7/dist-packages/statsmodels/tools/_testing.py:19: FutureWarning: pandas.util.testing is deprecated. Use the functions in the public API at pandas.testing instead.\n",
            "  import pandas.util.testing as tm\n"
          ]
        }
      ]
    },
    {
      "cell_type": "code",
      "source": [
        "from google.colab import drive\n",
        "drive.mount('/content/drive')\n",
        "\n",
        "#Navigate to folder where data is stored in the drive. \n",
        "%cd /content/drive/MyDrive/jameslab/\n",
        "\n",
        "dirname = '/content/drive/MyDrive/jameslab/'"
      ],
      "metadata": {
        "colab": {
          "base_uri": "https://localhost:8080/"
        },
        "id": "NVUXSK2eZHiR",
        "outputId": "12b0894c-f7de-446e-e9dc-88e556b1cd3c"
      },
      "execution_count": null,
      "outputs": [
        {
          "output_type": "stream",
          "name": "stdout",
          "text": [
            "Drive already mounted at /content/drive; to attempt to forcibly remount, call drive.mount(\"/content/drive\", force_remount=True).\n",
            "/content/drive/MyDrive/jameslab\n"
          ]
        }
      ]
    },
    {
      "cell_type": "code",
      "source": [
        "def read_data(fp):\n",
        "\n",
        "    jack_pine_abundance = gpd.read_file(fp)\n",
        "    return jack_pine_abundance\n",
        "\n",
        "\n",
        "def convert_sfile(geometry,t):\n",
        "    '''\n",
        "    Takes a GeoSeries of 3D Multi/Polygons (has_z) and returns a list of 2D Multi/Polygons\n",
        "    '''\n",
        "\n",
        "    new_data= geometry[geometry['VALUE'] == t] #ROUND3 for age\n",
        "    new_data['dissolvefield'] = 1\n",
        "    new_data = new_data.dissolve(by='dissolvefield').dissolve()\n",
        "    new_data['geometry'] = new_data.geometry.buffer(0.000001).unary_union.simplify(1)\n",
        "    new_data['dissolvefield'] = 1\n",
        "    new_data = new_data.dissolve(by='dissolvefield').dissolve()\n",
        "\n",
        "    return new_data"
      ],
      "metadata": {
        "id": "5_6EglK-iNYM"
      },
      "execution_count": null,
      "outputs": []
    },
    {
      "cell_type": "code",
      "source": [
        "\n",
        "years = list(range(1985,2015+1)) #All years of fires considered\n",
        "\n",
        "#read the file sent by Doriana and then convert it to epsg 4326\n",
        "df_origin = read_data('doriana/fire_severity_selected_v003.shp').to_crs('EPSG:4326')\n",
        "#sort by year to make easier \n",
        "df_origin = df_origin.sort_values('YEAR')\n",
        "\n",
        "#loop through the years \n",
        "for y in years:\n",
        "\n",
        "    try: \n",
        "      df1 = read_data('doriana/shp/'+str(y)+'_shp.shp') #open pre-made files in drive \n",
        "    except: \n",
        "      df1 = read_data('doriana/shp/'+str(y)+'_shp_n.shp') #case of repaired file \n",
        "    \n",
        "    \n",
        "    harvest = [] #List to collect area \n",
        "    names = [] \n",
        "    for geom,n in zip(list(df_origin['geometry']),list(df_origin['FIRE_ID'])): #Loop through each fire polygon \n",
        "        \n",
        "        clip_harvest = df1.clip(geom,keep_geom_type=True) #Make sure clip does not produce lines \n",
        "        if len(list(clip_harvest['geometry'])) > 0: #If there is intersection b/t fire & disturbance area \n",
        "          \n",
        "          geom2 = clip_harvest.to_crs('ESRI:102001') #convert to projected system \n",
        "\n",
        "          harvest.append(geom2.area[0]) #Calc area and append to list \n",
        "          names.append(n)\n",
        "        else: \n",
        "          harvest.append(0) #If area disturbed is 0 in that year \n",
        "          names.append(n)\n",
        "\n",
        "    df_origin[str(y)+'_AreaDisturbed'] = harvest #Create the new column and append data \n",
        "\n",
        "df_origin.to_file('doriana/area_disturbed2.geojson',driver=\"GeoJSON\") #send geojson to drive "
      ],
      "metadata": {
        "id": "QfXOm4KdjVxb"
      },
      "execution_count": null,
      "outputs": []
    }
  ]
}